{
  "cells": [
    {
      "cell_type": "markdown",
      "source": [
        "Finding optimal policy for playing blackjack\n",
        "\n",
        "Djordje Mirosavic E2 34/2023"
      ],
      "metadata": {
        "id": "wD_PbpJLyDZZ"
      }
    },
    {
      "cell_type": "markdown",
      "metadata": {
        "id": "FoRNRIEXoNON"
      },
      "source": [
        "# Imports"
      ]
    },
    {
      "cell_type": "code",
      "execution_count": null,
      "metadata": {
        "id": "aTMxCAGRoFd_"
      },
      "outputs": [],
      "source": [
        "from enum import Enum\n",
        "from dataclasses import dataclass, astuple\n",
        "import pprint\n",
        "\n",
        "from typing import Iterable\n",
        "import random\n",
        "from typing import Callable\n",
        "\n",
        "import numpy as np\n",
        "import matplotlib.pyplot as plt\n",
        "\n",
        "from tqdm import trange\n",
        "\n",
        "import copy\n",
        "import math\n",
        "from rich import print\n",
        "\n",
        "from IPython import display\n",
        "from time import sleep\n",
        "import time"
      ]
    },
    {
      "cell_type": "code",
      "execution_count": null,
      "metadata": {
        "id": "nw6Tg2ekoLJ8"
      },
      "outputs": [],
      "source": [
        "from abc import ABC, abstractmethod"
      ]
    },
    {
      "cell_type": "markdown",
      "metadata": {
        "id": "m10E6NEUoQoM"
      },
      "source": [
        "# Classes"
      ]
    },
    {
      "cell_type": "code",
      "execution_count": null,
      "metadata": {
        "id": "61IxpPfGoR6U"
      },
      "outputs": [],
      "source": [
        "class CardDecks:\n",
        "\n",
        "    def reshuffle(self):\n",
        "        for _ in range(self.number_of_decks):\n",
        "          [[self.cards.append(1) for _ in range(4)]]    # kecevi\n",
        "          [[self.cards.append(i) for _ in range(4)]  for i in range(2, 10)] # brojevi\n",
        "          [[self.cards.append(10) for _ in range(4*4)]]   # 10, zandar, dama i kralj\n",
        "        np.random.shuffle(self.cards)\n",
        "\n",
        "    def __init__(self, number_of_decks: int = 2):\n",
        "        self.cards = []\n",
        "        self.number_of_decks = number_of_decks\n",
        "        self.reshuffle()\n",
        "\n",
        "    def get_deck(self):\n",
        "      return self.cards\n",
        "\n",
        "    def get_deck_copy(self):\n",
        "      return self.cards_copy\n",
        "\n",
        "    def shuffle(self):\n",
        "      random.shuffle(self.cards)\n",
        "      return self.cards\n",
        "\n",
        "    def draw(self):\n",
        "      if not self.cards:\n",
        "        self.reshuffle()\n",
        "      return self.cards.pop(0)\n"
      ]
    },
    {
      "cell_type": "code",
      "execution_count": null,
      "metadata": {
        "id": "fndYTu6orGAE"
      },
      "outputs": [],
      "source": [
        "class Agent:\n",
        "\n",
        "  def __init__(self, max_sum = 17):\n",
        "      \"\"\"\n",
        "\n",
        "      Args:\n",
        "        max_sum:\n",
        "      \"\"\"\n",
        "      self.cards_sum = 0   # suma svih karti na pocetku je jednaka toj karti sto imamo\n",
        "      self.cards_list = []\n",
        "      self.have_ace = False\n",
        "      self.state = (self.cards_sum, self.have_ace)\n",
        "\n",
        "  def check_ace(self):\n",
        "      if self.cards_list.count(1) > 0:\n",
        "        self.have_ace = True\n",
        "      else:\n",
        "        self.have_ace = False\n",
        "      return self.have_ace\n",
        "\n",
        "  def get_state(self):\n",
        "      return self.state\n",
        "\n",
        "  def sum_cards(self):\n",
        "      add_10 = False\n",
        "      self.check_ace()\n",
        "      if self.have_ace and sum(self.cards_list)<=11:\n",
        "        add_10 = True\n",
        "\n",
        "      self.cards_sum = sum(self.cards_list)\n",
        "\n",
        "      if add_10:\n",
        "        self.cards_sum = self.cards_sum + 10\n",
        "      return self.cards_sum\n",
        "\n",
        "  def set_card_list(self, cards):\n",
        "    self.cards_list = cards\n",
        "\n",
        "  def add_card(self, card: int):\n",
        "    self.cards_list.append(card)"
      ]
    },
    {
      "cell_type": "code",
      "execution_count": null,
      "metadata": {
        "id": "R11qu4oJJb0o"
      },
      "outputs": [],
      "source": [
        "class Action(Enum):\n",
        "    \"\"\"Blackjack action.\"\"\"\n",
        "    HIT = 0\n",
        "    HOLD = 1\n",
        "\n",
        "    def __repr__(self):\n",
        "        return \"HIT\" if self == Action.HIT else \"HOLD\""
      ]
    },
    {
      "cell_type": "code",
      "execution_count": null,
      "metadata": {
        "id": "bGUUL_PvJt4g"
      },
      "outputs": [],
      "source": [
        "@dataclass\n",
        "class State:\n",
        "    \"\"\"The state of a Blackjack game\"\"\"\n",
        "    total: int\n",
        "    has_ace: bool\n",
        "    dealer_total: int\n",
        "\n",
        "    def __hash__(self):\n",
        "        return hash(astuple(self))\n",
        "\n",
        "    def __repr__(self):\n",
        "        return repr(astuple(self))"
      ]
    },
    {
      "cell_type": "code",
      "execution_count": null,
      "metadata": {
        "id": "IVpcVvoqx819"
      },
      "outputs": [],
      "source": [
        "class Environment:\n",
        "  def __init__(self, number_of_decks: int):\n",
        "\n",
        "\n",
        "    self.deck_of_cards = CardDecks(number_of_decks)\n",
        "    self.dealer = Agent()\n",
        "    self.player = Agent()\n",
        "\n",
        "    self.turn_log = []\n",
        "\n",
        "  @staticmethod\n",
        "  def get_actions():\n",
        "    return (Action.HIT, Action.HOLD)\n",
        "\n",
        "  def draw(self):\n",
        "    return self.deck_of_cards.draw()\n",
        "\n",
        "  def get_dealer_state(self) -> State:\n",
        "    return self.dealer.get_state()\n",
        "\n",
        "  def get_dealer_sum(self) -> int:\n",
        "    return self.dealer.sum_cards()\n",
        "\n",
        "  def get_player_state(self) -> State:\n",
        "    return self.player.get_state()\n",
        "\n",
        "  def get_player_sum(self) -> int:\n",
        "    return self.player.sum_cards()\n",
        "\n",
        "  def play_dealer_game(self, threshold: int = 17):\n",
        "    while(self.dealer.sum_cards() < threshold):\n",
        "      drawed_card = self.deck_of_cards.draw()\n",
        "      self.dealer.cards_list.append(drawed_card)\n",
        "      print(f\"Izvucena karta: {drawed_card}, a suma je {self.dealer.sum_cards()}, ima li keca: {self.dealer.check_ace()}\")\n",
        "\n",
        "  def apply_action(self, action: Action):\n",
        "    if action == Action.HIT:\n",
        "      self.Hit()\n",
        "    else:\n",
        "      self.Hold()\n",
        "\n",
        "  def Hit(self) -> int:\n",
        "    drawed_card = self.deck_of_cards.draw()\n",
        "    self.player.cards_list.append(drawed_card)\n",
        "    return drawed_card\n",
        "\n",
        "  def Hold(self) -> int:\n",
        "    if self.player.cards_sum > 21:\n",
        "      score = -1\n",
        "    else:\n",
        "      self.play_dealer_game()\n",
        "      if self.dealer.cards_sum > 21:\n",
        "        score = 1\n",
        "      elif self.dealer.cards_sum > self.player.cards_sum:\n",
        "        score = -1\n",
        "      elif self.player.cards_sum > self.dealer.cards_sum:\n",
        "        score = 1\n",
        "      else:\n",
        "          score = 0\n",
        "    return score\n",
        "\n",
        "  def update_player(self,\n",
        "                    drawed_card: int,\n",
        "                    player_sum: int,\n",
        "                    have_ace: bool) -> tuple[int, bool]:\n",
        "      \"\"\"\n",
        "      Args:\n",
        "        drawed_card: Card is represented with numbers from 1 to 10\n",
        "        player_sum: Current sum of all cards that player has\n",
        "        have_ace: Bool indication whether player has ace in hand\n",
        "\n",
        "      Returns:\n",
        "        Tuple containing sum updated with drawed_card, and an bool indicaton does player has ace\n",
        "      \"\"\"\n",
        "\n",
        "\n",
        "      if drawed_card == 1:\n",
        "        if player_sum + 11 <= 21:\n",
        "          return (player_sum + 11, True)\n",
        "        else:\n",
        "          return (player_sum + 1, have_ace)\n",
        "      else:\n",
        "        new_sum = player_sum + drawed_card\n",
        "\n",
        "        if new_sum > 21:\n",
        "          if have_ace:\n",
        "              new_sum = new_sum - 10\n",
        "              return (new_sum, False)\n",
        "\n",
        "        return (new_sum, have_ace)\n",
        "\n",
        "  ReportCallback = Callable[[str, str], None]\n",
        "  def play_one_game(self,\n",
        "                policy: Policy,\n",
        "                init_state: State | None = None,\n",
        "                init_action: Action | None = None,\n",
        "                report_callback: ReportCallback | None = None,) -> tuple[int, tuple[State, Action]]:\n",
        "    \"\"\"\n",
        "    Plays one game until player or dealer wins.\n",
        "\n",
        "    Args:\n",
        "      policy: Policy that we have to follow during game\n",
        "      init_state: Initial state consist of player's and dealer's first card\n",
        "      init_action: First action that we will make\n",
        "     *** output_to_console: Bool control whether we want to output game progress\n",
        "\n",
        "    Returns:\n",
        "      Returns player's new sum of the cards and turn log of the game\n",
        "\n",
        "    \"\"\"\n",
        "\n",
        "    report = lambda txt: report_callback and report_callback(txt)\n",
        "    '''\n",
        "      Reset to inital state\n",
        "    '''\n",
        "\n",
        "    if init_state is None:\n",
        "      state = random_state()\n",
        "    else:\n",
        "      state = init_state\n",
        "\n",
        "    if init_action is None:\n",
        "      if policy is dealer_policy:\n",
        "        action = dealer_policy(state)\n",
        "      else:\n",
        "        action = random_action()\n",
        "    else:\n",
        "      action = init_action\n",
        "\n",
        "    player_sum, have_ace, dealer_card = astuple(init_state)\n",
        "\n",
        "    self.player.cards_sum = player_sum\n",
        "    self.player.have_ace = have_ace\n",
        "    self.player.cards_list = [player_sum]\n",
        "\n",
        "    # dodati logiku da kad se pozove play_one_game da se resetuje igrac, odnosno da krene iz stanja init_state\n",
        "    # DATE 18.09.'24 nisam razumeo\n",
        "    turn_log = [(state,action)]\n",
        "\n",
        "    while action == Action.HIT:\n",
        "      drawed_card = self.Hit()\n",
        "      player_sum, have_ace = self.update_player(drawed_card, player_sum, have_ace)\n",
        "\n",
        "      self.player.cards_sum = player_sum\n",
        "      self.player.have_ace = have_ace\n",
        "\n",
        "      state = State(total = player_sum,\n",
        "                    has_ace = have_ace,\n",
        "                    dealer_total = state.dealer_total)\n",
        "\n",
        "      if player_sum > 21:\n",
        "        report(f\"turned finished - [bold]BUSTED![/] card drawn {drawed_card} => total {player_sum} with ACE {have_ace}\")\n",
        "        return player_sum, turn_log\n",
        "      else:\n",
        "        action = policy(state)\n",
        "        turn_log.append((state,action))\n",
        "        report(f\"card drawn {drawed_card} => total {player_sum} with ACE {have_ace} => action chosen {action}\")\n",
        "\n",
        "    #turn_log.append((state,Action.HOLD))\n",
        "    report(f\"turn finished with final total {player_sum}\")\n",
        "    return player_sum, turn_log\n",
        "\n",
        "  def force_dealer_hand(self,\n",
        "                        cards:list):\n",
        "    \"\"\"\n",
        "\n",
        "    Args:\n",
        "      cards: Cards that we want dealer to have\n",
        "    \"\"\"\n",
        "\n",
        "    self.dealer.set_card_list(cards)"
      ]
    },
    {
      "cell_type": "markdown",
      "source": [
        "# Types"
      ],
      "metadata": {
        "id": "J6zRucSRoUXB"
      }
    },
    {
      "cell_type": "code",
      "execution_count": null,
      "metadata": {
        "id": "Tr1X72tphXVI"
      },
      "outputs": [],
      "source": [
        "Policy = Callable[[State], Action]"
      ]
    },
    {
      "cell_type": "code",
      "source": [
        "Experience = tuple[State, Action, float]"
      ],
      "metadata": {
        "id": "8vbf8gB8jmT-"
      },
      "execution_count": null,
      "outputs": []
    },
    {
      "cell_type": "code",
      "source": [
        "QDict = dict[State, tuple[float, float]]"
      ],
      "metadata": {
        "id": "EpS_BIkjkQtv"
      },
      "execution_count": null,
      "outputs": []
    },
    {
      "cell_type": "code",
      "source": [
        "ReportCallback = Callable[[str], None]"
      ],
      "metadata": {
        "id": "RMazk1C1oT25"
      },
      "execution_count": null,
      "outputs": []
    },
    {
      "cell_type": "markdown",
      "source": [
        "# Policies"
      ],
      "metadata": {
        "id": "xdZZDvMfiTn_"
      }
    },
    {
      "cell_type": "markdown",
      "source": [
        "## Action functions"
      ],
      "metadata": {
        "id": "IiaxA3xIkaXf"
      }
    },
    {
      "cell_type": "code",
      "execution_count": null,
      "metadata": {
        "id": "Iw10a2VxJoao"
      },
      "outputs": [],
      "source": [
        "def random_action() -> Action:\n",
        "    \"\"\" Return random action.\"\"\"\n",
        "    r = random.random()\n",
        "    if r <= 0.5:\n",
        "        return Action.HIT\n",
        "    else:\n",
        "        return Action.HOLD"
      ]
    },
    {
      "cell_type": "code",
      "source": [
        "def choose_greedy_action(q: QDict) -> int:\n",
        "  \"\"\" Return index of best action.\"\"\"\n",
        "  return np.argmax(q)"
      ],
      "metadata": {
        "id": "bo8kZocu6l2v"
      },
      "execution_count": null,
      "outputs": []
    },
    {
      "cell_type": "code",
      "source": [
        "def choose_random_action() -> Action:\n",
        "  \"\"\" Return random action.\"\"\"\n",
        "  return random_action()"
      ],
      "metadata": {
        "id": "pj0NL6dR7DZo"
      },
      "execution_count": null,
      "outputs": []
    },
    {
      "cell_type": "code",
      "source": [
        "def choose_eps_greedy_action(q: QDict, eps: float = 0.1) -> Action:\n",
        "  if random.random() > eps:\n",
        "      return choose_greedy_action(q)\n",
        "  else:\n",
        "      return choose_random_action()"
      ],
      "metadata": {
        "id": "w8IPicyT69RI"
      },
      "execution_count": null,
      "outputs": []
    },
    {
      "cell_type": "markdown",
      "source": [
        "## Policy functions"
      ],
      "metadata": {
        "id": "h0DmdwVfkl3L"
      }
    },
    {
      "cell_type": "code",
      "execution_count": null,
      "metadata": {
        "id": "n6DbeRYcOGNk"
      },
      "outputs": [],
      "source": [
        "def create_greedy_policy(q_dict: QDict,\n",
        "                         eps: float = 0.1):\n",
        "  no_actions = len(list(Action))\n",
        "\n",
        "  def policy(s: State)->Action:\n",
        "    q_values = q_dict.get(s, None)\n",
        "\n",
        "    if q_values is not None:\n",
        "      #assert len(q_values) == no_actions, f\"Invalid Q-dict for state {s}.\"\n",
        "\n",
        "      # naredni deo koda radi sledece: Za neko stanje izvucemo kolika je dobit iz koje akcije.\n",
        "      # Treba da izaberemo onu koja ima najvecu dobit. To radimo tako sto prolazimo kroz tu listu dobiti za svaku akciju,\n",
        "      # i ako nemamo dobit za neku akciju, onda ce to polje imati vrednost None. U tom slucaju vracamo nasumicnu akciju.\n",
        "      # Ali ako imamo vise akcija koji nemaju vrednost None, biramo indeks one akcije cija je dobit najveca. I onda iz strukture Action\n",
        "      # izvucemo koja akcija je povezana sa tim indeksom\n",
        "\n",
        "      # npr, ako imamo vrednosti [1, None, -0.3], U ovom slucaju je povratna vrednost akcija na indeksu 1 jer ima najvecu dobit\n",
        "      # npr, ako imamo vrednosti [None, None, None], u ovom slucaju je povratna vrednost nasumicna akcija\n",
        "      if any([v is None for v in q_values]):\n",
        "          return random_policy(s)\n",
        "      else:\n",
        "          # ndx = np.argmax(q_values)\n",
        "          ndx = choose_greedy_action(q_values)\n",
        "          return Action(ndx)\n",
        "    else:\n",
        "        return random_policy(s)\n",
        "\n",
        "  return policy"
      ]
    },
    {
      "cell_type": "code",
      "execution_count": null,
      "metadata": {
        "id": "oPP59YPOJrCI"
      },
      "outputs": [],
      "source": [
        "def random_policy(s: State) -> Action:\n",
        "    return random_action()"
      ]
    },
    {
      "cell_type": "code",
      "execution_count": null,
      "metadata": {
        "id": "LXbK2-lLeFKs"
      },
      "outputs": [],
      "source": [
        "def dealer_policy(s: State,\n",
        "                  threshold : int = 17) -> Action:\n",
        "    \"\"\"\n",
        "    Args:\n",
        "      s: State of the game\n",
        "      threshold: Threshold where dealer dealer choose to HOLD\n",
        "\n",
        "    Returns:\n",
        "    \"\"\"\n",
        "\n",
        "    total, has_ace, _ = astuple(s)\n",
        "    if total <= threshold:\n",
        "        return Action.HIT\n",
        "    else:\n",
        "        return Action.HOLD"
      ]
    },
    {
      "cell_type": "markdown",
      "source": [
        "## Experience functions"
      ],
      "metadata": {
        "id": "_XO8sKDqkqIC"
      }
    },
    {
      "cell_type": "code",
      "execution_count": null,
      "metadata": {
        "id": "bwzXNgpUetpI"
      },
      "outputs": [],
      "source": [
        "def compute_gain(rewards: list[float],\n",
        "                 gamma: float) -> float:\n",
        "    \"\"\"\n",
        "    Compute the total gain given the list of future rewards.\n",
        "\n",
        "    Args:\n",
        "        rewards (list[float]): List of future rewards.\n",
        "        gamma: discount factor\n",
        "\n",
        "    Return:\n",
        "        float: The total gain\n",
        "    \"\"\"\n",
        "    g = 0\n",
        "    w = 1\n",
        "    for r in rewards:\n",
        "        g += w*r\n",
        "        w *= gamma\n",
        "    return g"
      ]
    },
    {
      "cell_type": "code",
      "source": [
        "def discounted_gains(rewards: list[float],\n",
        "                     gamma: float) -> list[float]:\n",
        "    \"\"\"\n",
        "    Compute list of discounted gains, given a sequence of rewards.\n",
        "\n",
        "    Args:\n",
        "        rewards (list[float]): Sequence of rewards.\n",
        "        gamma: discount factor\n",
        "\n",
        "    Return:\n",
        "        list[float]: sequence of gains\n",
        "    \"\"\"\n",
        "    gains = [compute_gain(rewards[i:], gamma) for i in range(len(rewards))]\n",
        "    return gains"
      ],
      "metadata": {
        "id": "MklypU-AiafL"
      },
      "execution_count": null,
      "outputs": []
    },
    {
      "cell_type": "code",
      "source": [
        "def build_experience(turn_log, result: int, gamma: float) -> Experience:\n",
        "    rewards = [0 for _ in turn_log]\n",
        "    rewards[-1] = result\n",
        "    gains = discounted_gains(rewards, gamma)\n",
        "    exp = [(s, a, g) for (s, a), g in zip(turn_log, gains)]\n",
        "    return exp"
      ],
      "metadata": {
        "id": "qis_lLg8jjXh"
      },
      "execution_count": null,
      "outputs": []
    },
    {
      "cell_type": "markdown",
      "source": [
        "# Helper funcitons"
      ],
      "metadata": {
        "id": "4wg_m8Okikq4"
      }
    },
    {
      "cell_type": "code",
      "source": [
        "def current_ms_time():\n",
        "    return round(time.time() * 1000)"
      ],
      "metadata": {
        "id": "M6TG4GEqk9zq"
      },
      "execution_count": null,
      "outputs": []
    },
    {
      "cell_type": "code",
      "source": [
        "def debug_time(line_of_code, old_ms_time):\n",
        "  print(line_of_code + f\": {current_ms_time() - old_ms_time}ms\")"
      ],
      "metadata": {
        "id": "jujWDs_xlGSA"
      },
      "execution_count": null,
      "outputs": []
    },
    {
      "cell_type": "code",
      "source": [
        "def random_state():\n",
        "  all_states = generate_all_states()\n",
        "  return random.choice(all_states)"
      ],
      "metadata": {
        "id": "PlJdxMAglCg-"
      },
      "execution_count": null,
      "outputs": []
    },
    {
      "cell_type": "code",
      "execution_count": null,
      "metadata": {
        "id": "nbzQLNb95qQn"
      },
      "outputs": [],
      "source": [
        "def generate_all_states() -> list[State]:\n",
        "  \"\"\"\n",
        "  Generates all states of the game\n",
        "\n",
        "  Returns: List of states\n",
        "  \"\"\"\n",
        "\n",
        "  states = []\n",
        "  for card_sum in range(2,22):\n",
        "    for dealer_card in range(2,12):\n",
        "      if card_sum >= 11:\n",
        "        states.append(State(total=card_sum, has_ace=True, dealer_total=dealer_card))\n",
        "        states.append(State(total=card_sum, has_ace=False, dealer_total=dealer_card))\n",
        "      else:\n",
        "        states.append(State(total=card_sum, has_ace=False, dealer_total=dealer_card))\n",
        "\n",
        "  return states"
      ]
    },
    {
      "cell_type": "markdown",
      "metadata": {
        "id": "5kt07PqBwFlb"
      },
      "source": [
        "# Simulation"
      ]
    },
    {
      "cell_type": "code",
      "execution_count": null,
      "metadata": {
        "id": "N5efXuwEwH1y"
      },
      "outputs": [],
      "source": [
        "def play_one_game(player_policy: Policy,\n",
        "              dealer_policy_new: Policy | str | None = dealer_policy,\n",
        "              init_state: State | str | None = None,\n",
        "              init_action: Action | str | None = None,\n",
        "              gamma : float = 1.0,\n",
        "              report_player_callback: ReportCallback | None = None,\n",
        "              report_dealer_callback: ReportCallback | None = None,\n",
        "              random_first_action = True) -> tuple[int, list[tuple[State, Action]], list[tuple[State, Action]], tuple[State, Action, float]]:\n",
        "  \"\"\"\n",
        "    Player plays one game and build experience on that game\n",
        "\n",
        "  Args:\n",
        "    policy: Policy that we have to follow during game\n",
        "    init_state: Initial state consist of player's and dealer's first card\n",
        "    init_action: First action that we will make\n",
        "    gamma: Discounting factor\n",
        "    output_to_console: Bool control whether we want to output game progress\n",
        "    random_first_action: Bool control whether we want first action to be random\n",
        "\n",
        "  Returns:\n",
        "      Tuple of Player's score, turn log of the player, turn log of the dealer and experince\n",
        "  \"\"\"\n",
        "\n",
        "\n",
        "  report_player = lambda txt: report_player_callback and report_player_callback(txt)\n",
        "  report_dealer = lambda txt: report_dealer_callback and report_dealer_callback(txt)\n",
        "\n",
        "  '''\n",
        "    Initialization\n",
        "  '''\n",
        "  if init_state is not None:\n",
        "    state = init_state\n",
        "  else:\n",
        "    state = random_state()\n",
        "\n",
        "  if init_action is not None:\n",
        "    action = init_action\n",
        "  else:\n",
        "    if random_first_action == False:\n",
        "      action = player_policy(state)\n",
        "    else:\n",
        "      action = random_action()\n",
        "\n",
        "  if state.dealer_total == 11:\n",
        "    dealer_has_ace = True\n",
        "  else:\n",
        "    dealer_has_ace = False\n",
        "\n",
        "  '''\n",
        "    Player's game\n",
        "  '''\n",
        "\n",
        "  report_player(f\"[bold]initial state[/] {state}\")\n",
        "\n",
        "  player_total, turn_log_player = env.play_one_game(player_policy,\n",
        "                                                  init_action=action,\n",
        "                                                  init_state=state,\n",
        "                                                  report_callback=report_player)\n",
        "\n",
        "\n",
        "  '''\n",
        "    Dealer's game\n",
        "  '''\n",
        "\n",
        "  '''\n",
        "    Now we play the game as a dealer, but because we want to learn policy,\n",
        "    dealer_total from the state now becomes player's sum of the cards, and we want\n",
        "    to make an action that will be the best for any total that player has\n",
        "  '''\n",
        "\n",
        "  if player_total > 21:\n",
        "    player_total = 22\n",
        "\n",
        "  dealer_init_state = State(total = state.dealer_total,\n",
        "                            has_ace = dealer_has_ace,\n",
        "                            dealer_total =  player_total)\n",
        "  dealer_init_action = dealer_policy_new(dealer_init_state)\n",
        "\n",
        "  report_dealer(f\"init state: {dealer_init_state}\")\n",
        "  dealer_total, turn_log_dealer = env.play_one_game(dealer_policy_new,\n",
        "                                                  init_action=dealer_init_action,\n",
        "                                                  init_state=dealer_init_state,\n",
        "                                                  report_callback=report_dealer)\n",
        "\n",
        "  '''\n",
        "    Scoring\n",
        "  '''\n",
        "\n",
        "  '''\n",
        "    Prvo treba da proverimo da li je player ili dealer busted, posto ako stavimo\n",
        "    if (player_total>21) or (dealerScore>playerScore), ovo pada u vodu ako je diler\n",
        "    imao zbir npr 23, a on je zapravo busted\n",
        "  '''\n",
        "  player_score = 0\n",
        "  if player_total > 21:\n",
        "    player_score = -1\n",
        "  elif dealer_total > 21:\n",
        "    player_score = 1\n",
        "  elif dealer_total > player_total:\n",
        "    player_score = -1\n",
        "  elif player_total > dealer_total:\n",
        "    player_score = 1\n",
        "\n",
        "  dealer_score = -player_score\n",
        "\n",
        "  '''\n",
        "    Updating experience\n",
        "  '''\n",
        "  player_exp = build_experience(turn_log_player, player_score, gamma)\n",
        "  dealer_exp = build_experience(turn_log_dealer, dealer_score, gamma)\n",
        "\n",
        "  return player_score, turn_log_player, turn_log_dealer, player_exp, dealer_exp"
      ]
    },
    {
      "cell_type": "markdown",
      "source": [
        "Forming callback for both player and delaer"
      ],
      "metadata": {
        "id": "eXiTmYMwjtnp"
      }
    },
    {
      "cell_type": "code",
      "source": [
        "report_player_callback = lambda txt: print(f\"[bold blue]AGENT:[/] {txt}\")\n",
        "report_dealer_callback = lambda txt: print(f\"[bold red]DEALER:[/] {txt}\")"
      ],
      "metadata": {
        "id": "rM0x0sAkjstJ"
      },
      "execution_count": null,
      "outputs": []
    },
    {
      "cell_type": "markdown",
      "source": [
        "Testing one game"
      ],
      "metadata": {
        "id": "60YpiiYFjywH"
      }
    },
    {
      "cell_type": "code",
      "execution_count": null,
      "metadata": {
        "colab": {
          "base_uri": "https://localhost:8080/",
          "height": 113
        },
        "id": "XhFCBX_pyWnO",
        "outputId": "4c87d267-156e-48bd-ade3-a9e0daca54e6"
      },
      "outputs": [
        {
          "output_type": "display_data",
          "data": {
            "text/plain": [
              "\u001b[1;34mAGENT:\u001b[0m \u001b[1minitial state\u001b[0m \u001b[1m(\u001b[0m\u001b[1;36m18\u001b[0m, \u001b[3;91mFalse\u001b[0m, \u001b[1;36m7\u001b[0m\u001b[1m)\u001b[0m\n"
            ],
            "text/html": [
              "<pre style=\"white-space:pre;overflow-x:auto;line-height:normal;font-family:Menlo,'DejaVu Sans Mono',consolas,'Courier New',monospace\"><span style=\"color: #000080; text-decoration-color: #000080; font-weight: bold\">AGENT:</span> <span style=\"font-weight: bold\">initial state</span> <span style=\"font-weight: bold\">(</span><span style=\"color: #008080; text-decoration-color: #008080; font-weight: bold\">18</span>, <span style=\"color: #ff0000; text-decoration-color: #ff0000; font-style: italic\">False</span>, <span style=\"color: #008080; text-decoration-color: #008080; font-weight: bold\">7</span><span style=\"font-weight: bold\">)</span>\n",
              "</pre>\n"
            ]
          },
          "metadata": {}
        },
        {
          "output_type": "display_data",
          "data": {
            "text/plain": [
              "\u001b[1;34mAGENT:\u001b[0m card drawn \u001b[1;36m2\u001b[0m => total \u001b[1;36m20\u001b[0m with ACE \u001b[3;91mFalse\u001b[0m => action chosen Action.HOLD\n"
            ],
            "text/html": [
              "<pre style=\"white-space:pre;overflow-x:auto;line-height:normal;font-family:Menlo,'DejaVu Sans Mono',consolas,'Courier New',monospace\"><span style=\"color: #000080; text-decoration-color: #000080; font-weight: bold\">AGENT:</span> card drawn <span style=\"color: #008080; text-decoration-color: #008080; font-weight: bold\">2</span> =&gt; total <span style=\"color: #008080; text-decoration-color: #008080; font-weight: bold\">20</span> with ACE <span style=\"color: #ff0000; text-decoration-color: #ff0000; font-style: italic\">False</span> =&gt; action chosen Action.HOLD\n",
              "</pre>\n"
            ]
          },
          "metadata": {}
        },
        {
          "output_type": "display_data",
          "data": {
            "text/plain": [
              "\u001b[1;34mAGENT:\u001b[0m turn finished with final total \u001b[1;36m20\u001b[0m\n"
            ],
            "text/html": [
              "<pre style=\"white-space:pre;overflow-x:auto;line-height:normal;font-family:Menlo,'DejaVu Sans Mono',consolas,'Courier New',monospace\"><span style=\"color: #000080; text-decoration-color: #000080; font-weight: bold\">AGENT:</span> turn finished with final total <span style=\"color: #008080; text-decoration-color: #008080; font-weight: bold\">20</span>\n",
              "</pre>\n"
            ]
          },
          "metadata": {}
        },
        {
          "output_type": "display_data",
          "data": {
            "text/plain": [
              "\u001b[1;31mDEALER:\u001b[0m init state: \u001b[1m(\u001b[0m\u001b[1;36m7\u001b[0m, \u001b[3;91mFalse\u001b[0m, \u001b[1;36m20\u001b[0m\u001b[1m)\u001b[0m\n"
            ],
            "text/html": [
              "<pre style=\"white-space:pre;overflow-x:auto;line-height:normal;font-family:Menlo,'DejaVu Sans Mono',consolas,'Courier New',monospace\"><span style=\"color: #800000; text-decoration-color: #800000; font-weight: bold\">DEALER:</span> init state: <span style=\"font-weight: bold\">(</span><span style=\"color: #008080; text-decoration-color: #008080; font-weight: bold\">7</span>, <span style=\"color: #ff0000; text-decoration-color: #ff0000; font-style: italic\">False</span>, <span style=\"color: #008080; text-decoration-color: #008080; font-weight: bold\">20</span><span style=\"font-weight: bold\">)</span>\n",
              "</pre>\n"
            ]
          },
          "metadata": {}
        },
        {
          "output_type": "display_data",
          "data": {
            "text/plain": [
              "\u001b[1;31mDEALER:\u001b[0m card drawn \u001b[1;36m10\u001b[0m => total \u001b[1;36m17\u001b[0m with ACE \u001b[3;91mFalse\u001b[0m => action chosen Action.HIT\n"
            ],
            "text/html": [
              "<pre style=\"white-space:pre;overflow-x:auto;line-height:normal;font-family:Menlo,'DejaVu Sans Mono',consolas,'Courier New',monospace\"><span style=\"color: #800000; text-decoration-color: #800000; font-weight: bold\">DEALER:</span> card drawn <span style=\"color: #008080; text-decoration-color: #008080; font-weight: bold\">10</span> =&gt; total <span style=\"color: #008080; text-decoration-color: #008080; font-weight: bold\">17</span> with ACE <span style=\"color: #ff0000; text-decoration-color: #ff0000; font-style: italic\">False</span> =&gt; action chosen Action.HIT\n",
              "</pre>\n"
            ]
          },
          "metadata": {}
        },
        {
          "output_type": "display_data",
          "data": {
            "text/plain": [
              "\u001b[1;31mDEALER:\u001b[0m turned finished - \u001b[1mBUSTED!\u001b[0m card drawn \u001b[1;36m10\u001b[0m => total \u001b[1;36m27\u001b[0m with ACE \u001b[3;91mFalse\u001b[0m\n"
            ],
            "text/html": [
              "<pre style=\"white-space:pre;overflow-x:auto;line-height:normal;font-family:Menlo,'DejaVu Sans Mono',consolas,'Courier New',monospace\"><span style=\"color: #800000; text-decoration-color: #800000; font-weight: bold\">DEALER:</span> turned finished - <span style=\"font-weight: bold\">BUSTED!</span> card drawn <span style=\"color: #008080; text-decoration-color: #008080; font-weight: bold\">10</span> =&gt; total <span style=\"color: #008080; text-decoration-color: #008080; font-weight: bold\">27</span> with ACE <span style=\"color: #ff0000; text-decoration-color: #ff0000; font-style: italic\">False</span>\n",
              "</pre>\n"
            ]
          },
          "metadata": {}
        }
      ],
      "source": [
        "score, turn_log_player, turn_log_dealer, player_exp, dealer_exp = play_one_game(dealer_policy,\n",
        "                                                        report_player_callback=report_player_callback,\n",
        "                                                        report_dealer_callback=report_dealer_callback)"
      ]
    },
    {
      "cell_type": "code",
      "execution_count": null,
      "metadata": {
        "id": "6h86-bpYeADF"
      },
      "outputs": [],
      "source": [
        "def simulate_multiple_games(player_policy: Policy,\n",
        "                            dealer_policy_new: Policy | str | None = dealer_policy,\n",
        "                            num_of_games: int = 1000,\n",
        "                            gamma : float = 1.0,\n",
        "                            random_first_action : bool = True,\n",
        "                            report_callback: ReportCallback | None = None):\n",
        "\n",
        "  report = lambda txt: report_callback and report_callback(txt)\n",
        "\n",
        "  total_player_exp = []\n",
        "  total_dealer_exp = []\n",
        "  wins, draws, loses, total_score = 0, 0, 0, 0\n",
        "\n",
        "\n",
        "  for _ in range(num_of_games):\n",
        "    score, turn_log_player, turn_log_dealer, player_exp, dealer_exp = play_one_game(player_policy,\n",
        "                                                                 dealer_policy_new=dealer_policy_new,\n",
        "                                                                 gamma=gamma,\n",
        "                                                                 random_first_action = random_first_action)\n",
        "\n",
        "    total_player_exp.extend(player_exp)\n",
        "    total_dealer_exp.extend(dealer_exp)\n",
        "\n",
        "    if score == 1:\n",
        "      wins += 1\n",
        "    elif score == -1:\n",
        "      loses += 1\n",
        "    else:\n",
        "      draws += 1\n",
        "\n",
        "    total_score += score\n",
        "\n",
        "  report(f\"Wins:{100*wins/num_of_games}%, draws:{100*draws/num_of_games}%, loses:{100*loses/num_of_games}%\\\n",
        "  total_score:{total_score} euros after {num_of_games} rounds\")\n",
        "\n",
        "  average_score = total_score/num_of_games\n",
        "  report(f\"Average score per game is {average_score}\")\n",
        "\n",
        "  return total_player_exp, total_dealer_exp, average_score"
      ]
    },
    {
      "cell_type": "markdown",
      "source": [
        "## Q values functions"
      ],
      "metadata": {
        "id": "_01_F08FohMH"
      }
    },
    {
      "cell_type": "code",
      "execution_count": null,
      "metadata": {
        "id": "A0SMMDX-K6AW"
      },
      "outputs": [],
      "source": [
        "def get_q_values(experience: Experience) -> QDict:\n",
        "  gains_dict = dict()\n",
        "  # recnik gains_dict za kljuc ima stanje, a za polje ima tuple od 2 elementa.\n",
        "  # Ti elementi su 2 liste, za akciju hit i hold. A te liste su dobici za tu akciju u tom stanju\n",
        "\n",
        "  # q_dict za kljuc ima stanje, a za polje takodje ima listu od 2 elementa.\n",
        "  # Ti elementi su srednje vrednosti dobitaka za svaku akciju ponaosob.\n",
        "  # Prakticno govoreci, mi na ovaj nacin dobijamo podatak koliki je prosecan dobitak kada mi u stanju s odigramo akciju a\n",
        "\n",
        "  for s, a, g in experience:\n",
        "      action_gains = gains_dict.get(s, ([], []))\n",
        "      action_gains[a.value].append(g)\n",
        "      gains_dict[s] = action_gains\n",
        "\n",
        "  q_dict = dict()\n",
        "  for s, g_values in gains_dict.items():\n",
        "      q_values = []\n",
        "      for ga in g_values:\n",
        "          if not ga:\n",
        "              q_values.append(None)\n",
        "          else:\n",
        "              q_values.append(np.mean(ga))\n",
        "      q_dict[s] = q_values\n",
        "\n",
        "  return q_dict"
      ]
    },
    {
      "cell_type": "code",
      "execution_count": null,
      "metadata": {
        "id": "3bMFVtR3U2q9"
      },
      "outputs": [],
      "source": [
        "def update_q_dict(old_dict: QDict,\n",
        "                  new_dict: QDict,\n",
        "                  alpha: float=0.1):\n",
        "\n",
        "  q_dict = copy.deepcopy(new_dict)\n",
        "  for s in old_dict.keys():\n",
        "\n",
        "    if s in new_dict:\n",
        "      num_of_actions = len(new_dict[s])\n",
        "      list_of_none = [None for _ in range(2)]\n",
        "\n",
        "      if new_dict[s] == list_of_none:\n",
        "        del new_dict[s]\n",
        "\n",
        "      for i in range(num_of_actions):\n",
        "        if new_dict[s][i] is None and old_dict[s][i] is not None:\n",
        "          q_dict[s][i] = old_dict[s][i]\n",
        "        elif new_dict[s][i] is not None and old_dict[s][i] is None:\n",
        "          q_dict[s][i] = new_dict[s][i]\n",
        "        elif new_dict[s][i] is not None and old_dict[s][i] is not None:\n",
        "          # q_dict[s][i] = alpha*new_dict[s][i] + (1-alpha)*old_dict[s][i]\n",
        "          q_dict[s][i] = old_dict[s][i] + alpha * (new_dict[s][i]  - old_dict[s][i])\n",
        "        else:\n",
        "          # q_dict[s][i] = None   # ovo bi trebalo da bude ispravo, ali probacemo da forsiramo nule\n",
        "          q_dict[s][i] = 0\n",
        "\n",
        "  return q_dict\n"
      ]
    },
    {
      "cell_type": "code",
      "source": [
        "def generate_dealer_q(initial_value = 0.1 ):\n",
        "  q_dict = {}\n",
        "  for card_sum in range(2,22):\n",
        "    for player_sum in range(2,23):\n",
        "      if card_sum < 17:\n",
        "        q_dict[State(total=card_sum,\n",
        "                    has_ace=True,\n",
        "                    dealer_total=player_sum)] = [initial_value, 0]\n",
        "        q_dict[State(total=card_sum,\n",
        "                    has_ace=False,\n",
        "                    dealer_total=player_sum)] = [initial_value, 0]\n",
        "      else:\n",
        "        q_dict[State(total=card_sum,\n",
        "                    has_ace=True,\n",
        "                    dealer_total=player_sum)] = [0, initial_value]\n",
        "        q_dict[State(total=card_sum,\n",
        "                    has_ace=False,\n",
        "                    dealer_total=player_sum)] = [0, initial_value]\n",
        "  return q_dict"
      ],
      "metadata": {
        "id": "k-3o7TVwKohV"
      },
      "execution_count": null,
      "outputs": []
    },
    {
      "cell_type": "markdown",
      "source": [
        "# Learning"
      ],
      "metadata": {
        "id": "a0sS_Q7W8qw7"
      }
    },
    {
      "cell_type": "code",
      "execution_count": null,
      "metadata": {
        "colab": {
          "base_uri": "https://localhost:8080/",
          "height": 472
        },
        "id": "nI65X_XIRKLx",
        "outputId": "58c8918b-e76d-49b3-9f4d-43cf731bab1f",
        "cellView": "form"
      },
      "outputs": [
        {
          "output_type": "display_data",
          "data": {
            "text/plain": [
              "<Figure size 640x480 with 1 Axes>"
            ],
            "image/png": "[encoded data removed]"
          },
          "metadata": {}
        }
      ],
      "source": [
        "# @markdown If you check `reset_training`, then all values  from training set will be reseted (q_dict, policies...)\n",
        "reset_training = True # @param {\"type\":\"boolean\",\"placeholder\":\"Add more training\"}\n",
        "NUM_OF_EPOCH = 15 # @param {\"type\":\"slider\",\"min\":1,\"max\":50,\"step\":1}\n",
        "NUM_OF_GAMES = 6800 # @param {\"type\":\"slider\",\"min\":100,\"max\":20000,\"step\":100}\n",
        "ALPHA_PLAYER = 0.02 # @param {\"type\":\"slider\",\"min\":0.01,\"max\":1,\"step\":0.01}\n",
        "ALPHA_DEALER = 0.02 # @param {\"type\":\"slider\",\"min\":0.01,\"max\":1,\"step\":0.01}\n",
        "GAMMA = 0.5 # @param {\"type\":\"slider\",\"min\":0.01,\"max\":1,\"step\":0.01}\n",
        "\n",
        "\n",
        "env = Environment(number_of_decks=10)\n",
        "\n",
        "if reset_training:\n",
        "  q_dict = dict()         # PLAYER dict\n",
        "  q_dict_dealer = dict()  # DEALER dict\n",
        "\n",
        "  q_dict_best = dict()\n",
        "  q_dict_dealer_best = dict()\n",
        "\n",
        "  res_best = -float(\"inf\")\n",
        "  res_best_dealer = +float(\"inf\")\n",
        "\n",
        "  results = []\n",
        "\n",
        "plt.axis([0, NUM_OF_EPOCH, -0.8, 0.8])\n",
        "plt.xlabel(\"Epoch number\")\n",
        "plt.ylabel(\"Average score per game\")\n",
        "\n",
        "for epoch in trange(NUM_OF_EPOCH):\n",
        "\n",
        "  player_policy = create_greedy_policy(q_dict, eps=0.15)\n",
        "  new_dealer_policy = create_greedy_policy(q_dict_dealer, eps=0.05)\n",
        "\n",
        "  player_exp, dealer_exp, average_score = simulate_multiple_games(player_policy,\n",
        "                                              dealer_policy_new=new_dealer_policy,\n",
        "                                              gamma=GAMMA,\n",
        "                                              num_of_games=NUM_OF_GAMES,\n",
        "                                              random_first_action=True)\n",
        "\n",
        "  results.append(average_score)\n",
        "\n",
        "  '''\n",
        "    BEST DICT\n",
        "  '''\n",
        "  if average_score > res_best and q_dict:\n",
        "    q_dict_best = copy.deepcopy(q_dict)\n",
        "    res_best = average_score\n",
        "\n",
        "  if average_score < res_best_dealer and q_dict_dealer:\n",
        "    q_dict_dealer_best = copy.deepcopy(q_dict_dealer)\n",
        "    res_best_dealer = average_score\n",
        "\n",
        "  '''\n",
        "    UPDATE DICT\n",
        "  '''\n",
        "  new_q_dict = get_q_values(player_exp)\n",
        "  q_dict = update_q_dict(q_dict, new_q_dict, alpha=ALPHA_PLAYER)\n",
        "\n",
        "  new_q_dict_dealer = get_q_values(dealer_exp)\n",
        "  q_dict_dealer = update_q_dict(q_dict_dealer, new_q_dict_dealer, alpha=ALPHA_DEALER)\n",
        "\n",
        "  '''\n",
        "    DISPLAY\n",
        "  '''\n",
        "\n",
        "  display.clear_output(wait=True)\n",
        "  plt.title(\"Average player score per game\")\n",
        "  plt.scatter(epoch, average_score)\n",
        "  display.display(plt.gcf())\n",
        "  sleep(0.05)\n",
        "\n",
        "q_dict_last = copy.deepcopy(q_dict)\n",
        "q_dict_dealer_last = copy.deepcopy(q_dict_dealer)\n",
        "display.clear_output()"
      ]
    },
    {
      "cell_type": "markdown",
      "source": [
        "Testing"
      ],
      "metadata": {
        "id": "xOCthbPulfdh"
      }
    },
    {
      "cell_type": "code",
      "execution_count": null,
      "metadata": {
        "id": "vr9Gk_2bT7HW",
        "colab": {
          "base_uri": "https://localhost:8080/",
          "height": 113
        },
        "outputId": "83ffdf7e-4fbf-4757-d7df-af63dffea0b0"
      },
      "outputs": [
        {
          "output_type": "display_data",
          "data": {
            "text/plain": [
              "Player vs New dealer:\n"
            ],
            "text/html": [
              "<pre style=\"white-space:pre;overflow-x:auto;line-height:normal;font-family:Menlo,'DejaVu Sans Mono',consolas,'Courier New',monospace\">Player vs New dealer:\n",
              "</pre>\n"
            ]
          },
          "metadata": {}
        },
        {
          "output_type": "display_data",
          "data": {
            "text/plain": [
              "\u001b[1;34mAGENT:\u001b[0m Wins:\u001b[1;36m25.68\u001b[0m%, draws:\u001b[1;36m12.62\u001b[0m%, loses:\u001b[1;36m61.7\u001b[0m%  total_score:\u001b[1;36m-1801\u001b[0m euros after \u001b[1;36m5000\u001b[0m rounds\n"
            ],
            "text/html": [
              "<pre style=\"white-space:pre;overflow-x:auto;line-height:normal;font-family:Menlo,'DejaVu Sans Mono',consolas,'Courier New',monospace\"><span style=\"color: #000080; text-decoration-color: #000080; font-weight: bold\">AGENT:</span> Wins:<span style=\"color: #008080; text-decoration-color: #008080; font-weight: bold\">25.68</span>%, draws:<span style=\"color: #008080; text-decoration-color: #008080; font-weight: bold\">12.62</span>%, loses:<span style=\"color: #008080; text-decoration-color: #008080; font-weight: bold\">61.7</span>%  total_score:<span style=\"color: #008080; text-decoration-color: #008080; font-weight: bold\">-1801</span> euros after <span style=\"color: #008080; text-decoration-color: #008080; font-weight: bold\">5000</span> rounds\n",
              "</pre>\n"
            ]
          },
          "metadata": {}
        },
        {
          "output_type": "display_data",
          "data": {
            "text/plain": [
              "\u001b[1;34mAGENT:\u001b[0m Average score per game is \u001b[1;36m-0.3602\u001b[0m\n"
            ],
            "text/html": [
              "<pre style=\"white-space:pre;overflow-x:auto;line-height:normal;font-family:Menlo,'DejaVu Sans Mono',consolas,'Courier New',monospace\"><span style=\"color: #000080; text-decoration-color: #000080; font-weight: bold\">AGENT:</span> Average score per game is <span style=\"color: #008080; text-decoration-color: #008080; font-weight: bold\">-0.3602</span>\n",
              "</pre>\n"
            ]
          },
          "metadata": {}
        },
        {
          "output_type": "display_data",
          "data": {
            "text/plain": [
              "Dealer vs New dealer:\n"
            ],
            "text/html": [
              "<pre style=\"white-space:pre;overflow-x:auto;line-height:normal;font-family:Menlo,'DejaVu Sans Mono',consolas,'Courier New',monospace\">Dealer vs New dealer:\n",
              "</pre>\n"
            ]
          },
          "metadata": {}
        },
        {
          "output_type": "display_data",
          "data": {
            "text/plain": [
              "\u001b[1;31mDEALER:\u001b[0m Wins:\u001b[1;36m39.9\u001b[0m%, draws:\u001b[1;36m12.12\u001b[0m%, loses:\u001b[1;36m47.98\u001b[0m%  total_score:\u001b[1;36m-404\u001b[0m euros after \u001b[1;36m5000\u001b[0m rounds\n"
            ],
            "text/html": [
              "<pre style=\"white-space:pre;overflow-x:auto;line-height:normal;font-family:Menlo,'DejaVu Sans Mono',consolas,'Courier New',monospace\"><span style=\"color: #800000; text-decoration-color: #800000; font-weight: bold\">DEALER:</span> Wins:<span style=\"color: #008080; text-decoration-color: #008080; font-weight: bold\">39.9</span>%, draws:<span style=\"color: #008080; text-decoration-color: #008080; font-weight: bold\">12.12</span>%, loses:<span style=\"color: #008080; text-decoration-color: #008080; font-weight: bold\">47.98</span>%  total_score:<span style=\"color: #008080; text-decoration-color: #008080; font-weight: bold\">-404</span> euros after <span style=\"color: #008080; text-decoration-color: #008080; font-weight: bold\">5000</span> rounds\n",
              "</pre>\n"
            ]
          },
          "metadata": {}
        },
        {
          "output_type": "display_data",
          "data": {
            "text/plain": [
              "\u001b[1;31mDEALER:\u001b[0m Average score per game is \u001b[1;36m-0.0808\u001b[0m\n"
            ],
            "text/html": [
              "<pre style=\"white-space:pre;overflow-x:auto;line-height:normal;font-family:Menlo,'DejaVu Sans Mono',consolas,'Courier New',monospace\"><span style=\"color: #800000; text-decoration-color: #800000; font-weight: bold\">DEALER:</span> Average score per game is <span style=\"color: #008080; text-decoration-color: #008080; font-weight: bold\">-0.0808</span>\n",
              "</pre>\n"
            ]
          },
          "metadata": {}
        }
      ],
      "source": [
        "print(\"Player vs New dealer:\")\n",
        "_,_,_ = simulate_multiple_games(create_greedy_policy(q_dict_best),\n",
        "                                dealer_policy_new=new_dealer_policy,\n",
        "                                gamma=0.5,\n",
        "                                num_of_games=5000,\n",
        "                                random_first_action = False,\n",
        "                                report_callback=report_player_callback)\n",
        "\n",
        "print(\"Dealer vs New dealer:\")\n",
        "_,_,_ = simulate_multiple_games(dealer_policy,\n",
        "                                dealer_policy_new=new_dealer_policy,\n",
        "                                gamma=0.5,\n",
        "                                num_of_games=5000,\n",
        "                                random_first_action = False,\n",
        "                                report_callback=report_dealer_callback)"
      ]
    },
    {
      "cell_type": "code",
      "execution_count": null,
      "metadata": {
        "id": "FIU_E6r8MctY"
      },
      "outputs": [],
      "source": [
        "def play_real_game(player_policy: Policy,\n",
        "                   dealer_policy: Policy,\n",
        "                   num_of_games: int = 1000,\n",
        "                   report_callback: ReportCallback | None = None):\n",
        "  '''\n",
        "    Plays the whole game, not from random state like in the training state\n",
        "  '''\n",
        "  report = lambda txt: report_callback and report_callback(txt)\n",
        "\n",
        "  wins, draws, loses, total_score = 0, 0, 0, 0\n",
        "\n",
        "  for game_num in trange(num_of_games):\n",
        "    player_card = env.Hit()\n",
        "\n",
        "    if player_card == 1:\n",
        "      player_card = 11\n",
        "      has_ace = True\n",
        "    else:\n",
        "      has_ace = False\n",
        "\n",
        "    dealer_card = env.Hit()\n",
        "    if dealer_card == 1:\n",
        "      dealer_card = 11\n",
        "\n",
        "    state = State(total=player_card,\n",
        "                  has_ace=has_ace,\n",
        "                  dealer_total=dealer_card)\n",
        "    action = player_policy(state)\n",
        "    score, log_player, log_dealer, _, _ = play_one_game(player_policy,\n",
        "                                                     dealer_policy,\n",
        "                                                     init_state = state,\n",
        "                                                     init_action=action)\n",
        "\n",
        "\n",
        "    if score == 1:\n",
        "      wins += 1\n",
        "    elif score == -1:\n",
        "      loses += 1\n",
        "    else:\n",
        "      draws += 1\n",
        "\n",
        "    total_score += score\n",
        "\n",
        "  report(f\"Player wins:{100*wins/num_of_games}%, draws:{100*draws/num_of_games}%, loses:{100*loses/num_of_games}%\\\n",
        "  total_score:{total_score} euros after {num_of_games} rounds\")\n",
        "  return wins, draws, loses\n"
      ]
    },
    {
      "cell_type": "markdown",
      "source": [
        "Playing real game, drawing cards one by one.\\\n",
        "Player versus new dealer policy"
      ],
      "metadata": {
        "id": "3mABESYSnwUg"
      }
    },
    {
      "cell_type": "code",
      "execution_count": null,
      "metadata": {
        "colab": {
          "base_uri": "https://localhost:8080/",
          "height": 50
        },
        "id": "k_--LA2QPJWb",
        "outputId": "8e37af1c-90e7-4b3d-edd6-172e49162e82"
      },
      "outputs": [
        {
          "output_type": "stream",
          "name": "stderr",
          "text": [
            "100%|██████████| 10000/10000 [00:02<00:00, 4954.30it/s]\n"
          ]
        },
        {
          "output_type": "display_data",
          "data": {
            "text/plain": [
              "\u001b[1;34mAGENT:\u001b[0m Player wins:\u001b[1;36m17.37\u001b[0m%, draws:\u001b[1;36m11.51\u001b[0m%, loses:\u001b[1;36m71.12\u001b[0m%  total_score:\u001b[1;36m-5375\u001b[0m euros after \u001b[1;36m10000\u001b[0m rounds\n"
            ],
            "text/html": [
              "<pre style=\"white-space:pre;overflow-x:auto;line-height:normal;font-family:Menlo,'DejaVu Sans Mono',consolas,'Courier New',monospace\"><span style=\"color: #000080; text-decoration-color: #000080; font-weight: bold\">AGENT:</span> Player wins:<span style=\"color: #008080; text-decoration-color: #008080; font-weight: bold\">17.37</span>%, draws:<span style=\"color: #008080; text-decoration-color: #008080; font-weight: bold\">11.51</span>%, loses:<span style=\"color: #008080; text-decoration-color: #008080; font-weight: bold\">71.12</span>%  total_score:<span style=\"color: #008080; text-decoration-color: #008080; font-weight: bold\">-5375</span> euros after <span style=\"color: #008080; text-decoration-color: #008080; font-weight: bold\">10000</span> rounds\n",
              "</pre>\n"
            ]
          },
          "metadata": {}
        }
      ],
      "source": [
        "message = play_real_game(create_greedy_policy(q_dict_best),\n",
        "                         new_dealer_policy,\n",
        "                         num_of_games=10000,\n",
        "                         report_callback=report_player_callback)"
      ]
    },
    {
      "cell_type": "markdown",
      "source": [
        "# Visualisation"
      ],
      "metadata": {
        "id": "qfF0pUt6npur"
      }
    },
    {
      "cell_type": "code",
      "execution_count": null,
      "metadata": {
        "id": "srXyFLefegcf"
      },
      "outputs": [],
      "source": [
        "def visualize_policy(policy, is_dealer: bool = False):\n",
        "    \"\"\"Visualize the policy.\n",
        "\n",
        "    The policy will be visualized using a colored grid.\n",
        "    The horizontal axis will correspond to the player total and the vertical axis to the\n",
        "    dealer's total.\n",
        "\n",
        "    If a cell is colored in red, it means that the action is HIT, regardless of existence of usable ACE.\n",
        "    If a cell is colored in blue, it means HOLD, regardless of existence of usable ACE.\n",
        "    Green cells are those in which HIT will be played only if there is a usable ACE.\n",
        "    Black cells are those in which HIT will be played only if there is no usable ACE.\n",
        "\n",
        "    Since the last case (play HIT if there is no usable ACE, and HOLD otherwise) seems counterintutive,\n",
        "    the color black is selected to distinguish it from other states.\n",
        "    \"\"\"\n",
        "    player_values = list(range(2, 21))\n",
        "\n",
        "    if is_dealer:\n",
        "      biggest_sum = 22\n",
        "    else:\n",
        "      biggest_sum = 12\n",
        "    dealer_values = list(range(2, biggest_sum))\n",
        "\n",
        "    board = np.ones(shape=(len(dealer_values), len(player_values), 3), dtype=np.uint8)\n",
        "    for r, dv in enumerate(dealer_values):\n",
        "        for c, pv in enumerate(player_values):\n",
        "            if pv < 11:\n",
        "                action_t = policy(State(pv, False, dv)) == Action.HIT\n",
        "                if action_t:\n",
        "                    board[r, c, :] = (255, 0, 0)\n",
        "                else:\n",
        "                    board[r, c, :] = (0, 0, 255)\n",
        "            else:\n",
        "                action_t = policy(State(pv, True, dv)) == Action.HIT\n",
        "                action_f = policy(State(pv, False, dv)) == Action.HIT\n",
        "                if action_t and action_f:\n",
        "                    board[r, c, :] = (255, 0, 0)\n",
        "                elif action_t and not action_f:\n",
        "                    board[r, c, :] = (0, 255, 0)\n",
        "                elif not action_t and not action_f:\n",
        "                    board[r, c, :] = (0, 0, 255)\n",
        "                else:\n",
        "                    board[r, c, :] = (0, 0, 0)\n",
        "    plt.imshow(board, extent=[2, 21, biggest_sum, 2])\n",
        "    plt.xticks(np.arange(2.5, 21.5, 1), np.arange(2, 21, 1))\n",
        "    plt.yticks(np.arange(2.5, biggest_sum +0.5, 1), np.arange(2, biggest_sum, 1))\n",
        "\n",
        "    if is_dealer:\n",
        "      plt.xlabel(\"dealer total\")\n",
        "      plt.ylabel(\"player total\")\n",
        "    else:\n",
        "      plt.xlabel(\"player total\")\n",
        "      plt.ylabel(\"dealer total\")"
      ]
    },
    {
      "cell_type": "code",
      "execution_count": null,
      "metadata": {
        "id": "f0RWVUu1ehLV",
        "colab": {
          "base_uri": "https://localhost:8080/",
          "height": 489
        },
        "outputId": "8c7492da-12cc-4d8e-a9f8-9a6e12b40c13"
      },
      "outputs": [
        {
          "output_type": "execute_result",
          "data": {
            "text/plain": [
              "Text(0.5, 1.0, 'Delaer policy')"
            ]
          },
          "metadata": {},
          "execution_count": 90
        },
        {
          "output_type": "display_data",
          "data": {
            "text/plain": [
              "<Figure size 640x480 with 1 Axes>"
            ],
            "image/png": "[encoded data removed]"
          },
          "metadata": {}
        }
      ],
      "source": [
        "visualize_policy(create_greedy_policy(q_dict_dealer_last), is_dealer=True)\n",
        "plt.title(\"Delaer policy\")"
      ]
    },
    {
      "cell_type": "code",
      "source": [
        "visualize_policy(create_greedy_policy(q_dict_last))\n",
        "plt.title(\"Player policy\")"
      ],
      "metadata": {
        "colab": {
          "base_uri": "https://localhost:8080/",
          "height": 380
        },
        "id": "pzCYgv1Z64JB",
        "outputId": "712b2154-5d6c-4bbc-b0d7-67fe86a39eda"
      },
      "execution_count": null,
      "outputs": [
        {
          "output_type": "execute_result",
          "data": {
            "text/plain": [
              "Text(0.5, 1.0, 'Player policy')"
            ]
          },
          "metadata": {},
          "execution_count": 94
        },
        {
          "output_type": "display_data",
          "data": {
            "text/plain": [
              "<Figure size 640x480 with 1 Axes>"
            ],
            "image/png": "[encoded data removed]"
          },
          "metadata": {}
        }
      ]
    }
  ],
  "metadata": {
    "colab": {
      "provenance": []
    },
    "kernelspec": {
      "display_name": "Python 3",
      "name": "python3"
    },
    "language_info": {
      "name": "python"
    }
  },
  "nbformat": 4,
  "nbformat_minor": 0
}
